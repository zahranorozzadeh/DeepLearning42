{
  "nbformat": 4,
  "nbformat_minor": 0,
  "metadata": {
    "colab": {
      "name": "animal_classification.ipynb",
      "provenance": [],
      "collapsed_sections": [],
      "mount_file_id": "1C6WMTeA3wMysJWrOel_pGU2svU4cjX-Y",
      "authorship_tag": "ABX9TyPT/8shRz85YvDwuj1D1DDR",
      "include_colab_link": true
    },
    "kernelspec": {
      "name": "python3",
      "display_name": "Python 3"
    },
    "language_info": {
      "name": "python"
    },
    "accelerator": "GPU"
  },
  "cells": [
    {
      "cell_type": "markdown",
      "metadata": {
        "id": "view-in-github",
        "colab_type": "text"
      },
      "source": [
        "<a href=\"https://colab.research.google.com/github/zahranorozzadeh/DeepLearning42/blob/main/animal_classification.ipynb\" target=\"_parent\"><img src=\"https://colab.research.google.com/assets/colab-badge.svg\" alt=\"Open In Colab\"/></a>"
      ]
    },
    {
      "cell_type": "code",
      "metadata": {
        "id": "IKWZfxrUP2BQ"
      },
      "source": [
        "import tensorflow  as tf\n",
        "from tensorflow .keras.preprocessing.image import ImageDataGenerator\n",
        "from tensorflow .keras.layers import Dense,Conv2D,MaxPool2D,Flatten\n",
        "import numpy as np"
      ],
      "execution_count": 2,
      "outputs": []
    },
    {
      "cell_type": "code",
      "metadata": {
        "id": "2u3WDcJRsQWR"
      },
      "source": [
        "width = height = 224"
      ],
      "execution_count": 3,
      "outputs": []
    },
    {
      "cell_type": "code",
      "metadata": {
        "colab": {
          "base_uri": "https://localhost:8080/"
        },
        "id": "QxIkFey2VLOq",
        "outputId": "1b4fea7e-c721-4f4f-f5b5-272c09de43bf"
      },
      "source": [
        "image_data_generator = ImageDataGenerator(\n",
        "    rescale = 1./255,\n",
        "    horizontal_flip = True\n",
        ")\n",
        "train_data = image_data_generator.flow_from_directory('/content/drive/MyDrive/animal',\n",
        "                                                 target_size=(width,height),\n",
        "                                                 class_mode='categorical',)"
      ],
      "execution_count": 4,
      "outputs": [
        {
          "output_type": "stream",
          "name": "stdout",
          "text": [
            "Found 30 images belonging to 3 classes.\n"
          ]
        }
      ]
    },
    {
      "cell_type": "code",
      "metadata": {
        "id": "XS5cenBNp8DO"
      },
      "source": [
        "model = tf.keras.models.Sequential([\n",
        "   Conv2D(32,(3,3), activation='relu',input_shape=(width,height,3)),\n",
        "   Conv2D(32,(3,3), activation='relu'),\n",
        "   MaxPool2D((2,2)),\n",
        "   Conv2D(32,(3,3), activation='relu'),\n",
        "   Conv2D(32,(3,3), activation='relu'),\n",
        "   MaxPool2D((2,2)),\n",
        "   Conv2D(64,(3,3), activation='relu'),\n",
        "   Conv2D(64,(3,3), activation='relu'),\n",
        "   MaxPool2D((2,2)),\n",
        "   Conv2D(64,(3,3), activation='relu'),\n",
        "   Conv2D(64,(3,3), activation='relu'),\n",
        "\n",
        "   Flatten(),\n",
        "   Dense(128, activation='relu'),\n",
        "   Dense(32, activation='relu'),\n",
        "   Dense(3, activation='softmax'),\n",
        "])"
      ],
      "execution_count": 6,
      "outputs": []
    },
    {
      "cell_type": "code",
      "metadata": {
        "colab": {
          "base_uri": "https://localhost:8080/"
        },
        "id": "BBNbx4iGudR_",
        "outputId": "be9b5d8f-0dd9-4fa0-a3e2-3bde7ba08919"
      },
      "source": [
        "model.summary()"
      ],
      "execution_count": 7,
      "outputs": [
        {
          "output_type": "stream",
          "name": "stdout",
          "text": [
            "Model: \"sequential\"\n",
            "_________________________________________________________________\n",
            "Layer (type)                 Output Shape              Param #   \n",
            "=================================================================\n",
            "conv2d (Conv2D)              (None, 222, 222, 32)      896       \n",
            "_________________________________________________________________\n",
            "conv2d_1 (Conv2D)            (None, 220, 220, 32)      9248      \n",
            "_________________________________________________________________\n",
            "max_pooling2d (MaxPooling2D) (None, 110, 110, 32)      0         \n",
            "_________________________________________________________________\n",
            "conv2d_2 (Conv2D)            (None, 108, 108, 32)      9248      \n",
            "_________________________________________________________________\n",
            "conv2d_3 (Conv2D)            (None, 106, 106, 32)      9248      \n",
            "_________________________________________________________________\n",
            "max_pooling2d_1 (MaxPooling2 (None, 53, 53, 32)        0         \n",
            "_________________________________________________________________\n",
            "conv2d_4 (Conv2D)            (None, 51, 51, 64)        18496     \n",
            "_________________________________________________________________\n",
            "conv2d_5 (Conv2D)            (None, 49, 49, 64)        36928     \n",
            "_________________________________________________________________\n",
            "max_pooling2d_2 (MaxPooling2 (None, 24, 24, 64)        0         \n",
            "_________________________________________________________________\n",
            "conv2d_6 (Conv2D)            (None, 22, 22, 64)        36928     \n",
            "_________________________________________________________________\n",
            "conv2d_7 (Conv2D)            (None, 20, 20, 64)        36928     \n",
            "_________________________________________________________________\n",
            "flatten (Flatten)            (None, 25600)             0         \n",
            "_________________________________________________________________\n",
            "dense (Dense)                (None, 128)               3276928   \n",
            "_________________________________________________________________\n",
            "dense_1 (Dense)              (None, 32)                4128      \n",
            "_________________________________________________________________\n",
            "dense_2 (Dense)              (None, 3)                 99        \n",
            "=================================================================\n",
            "Total params: 3,439,075\n",
            "Trainable params: 3,439,075\n",
            "Non-trainable params: 0\n",
            "_________________________________________________________________\n"
          ]
        }
      ]
    },
    {
      "cell_type": "code",
      "metadata": {
        "id": "lTbt4bkLwjdJ"
      },
      "source": [
        "model.compile(optimizer=tf.keras.optimizers.SGD(),\n",
        "              loss = tf.keras.losses.categorical_crossentropy,\n",
        "              metrics = ['accuracy'])"
      ],
      "execution_count": 10,
      "outputs": []
    },
    {
      "cell_type": "code",
      "metadata": {
        "colab": {
          "base_uri": "https://localhost:8080/"
        },
        "id": "Iw6qyxrKwOv2",
        "outputId": "c03bcd94-c372-441c-c1c9-b2486988af37"
      },
      "source": [
        "model.fit(train_data,epochs=40)"
      ],
      "execution_count": 11,
      "outputs": [
        {
          "output_type": "stream",
          "name": "stdout",
          "text": [
            "Epoch 1/40\n",
            "1/1 [==============================] - 30s 30s/step - loss: 1.0976 - accuracy: 0.3667\n",
            "Epoch 2/40\n",
            "1/1 [==============================] - 0s 345ms/step - loss: 1.0959 - accuracy: 0.4667\n",
            "Epoch 3/40\n",
            "1/1 [==============================] - 0s 336ms/step - loss: 1.0965 - accuracy: 0.4333\n",
            "Epoch 4/40\n",
            "1/1 [==============================] - 0s 359ms/step - loss: 1.0959 - accuracy: 0.5000\n",
            "Epoch 5/40\n",
            "1/1 [==============================] - 0s 337ms/step - loss: 1.0952 - accuracy: 0.5667\n",
            "Epoch 6/40\n",
            "1/1 [==============================] - 0s 328ms/step - loss: 1.0947 - accuracy: 0.6000\n",
            "Epoch 7/40\n",
            "1/1 [==============================] - 0s 352ms/step - loss: 1.0947 - accuracy: 0.5667\n",
            "Epoch 8/40\n",
            "1/1 [==============================] - 0s 333ms/step - loss: 1.0939 - accuracy: 0.6000\n",
            "Epoch 9/40\n",
            "1/1 [==============================] - 0s 329ms/step - loss: 1.0936 - accuracy: 0.5667\n",
            "Epoch 10/40\n",
            "1/1 [==============================] - 0s 329ms/step - loss: 1.0922 - accuracy: 0.6000\n",
            "Epoch 11/40\n",
            "1/1 [==============================] - 0s 329ms/step - loss: 1.0910 - accuracy: 0.6000\n",
            "Epoch 12/40\n",
            "1/1 [==============================] - 0s 332ms/step - loss: 1.0912 - accuracy: 0.6000\n",
            "Epoch 13/40\n",
            "1/1 [==============================] - 0s 338ms/step - loss: 1.0913 - accuracy: 0.6000\n",
            "Epoch 14/40\n",
            "1/1 [==============================] - 0s 328ms/step - loss: 1.0901 - accuracy: 0.6333\n",
            "Epoch 15/40\n",
            "1/1 [==============================] - 0s 334ms/step - loss: 1.0893 - accuracy: 0.6000\n",
            "Epoch 16/40\n",
            "1/1 [==============================] - 0s 329ms/step - loss: 1.0886 - accuracy: 0.6667\n",
            "Epoch 17/40\n",
            "1/1 [==============================] - 0s 332ms/step - loss: 1.0894 - accuracy: 0.6000\n",
            "Epoch 18/40\n",
            "1/1 [==============================] - 0s 331ms/step - loss: 1.0887 - accuracy: 0.6000\n",
            "Epoch 19/40\n",
            "1/1 [==============================] - 0s 330ms/step - loss: 1.0881 - accuracy: 0.6333\n",
            "Epoch 20/40\n",
            "1/1 [==============================] - 0s 335ms/step - loss: 1.0864 - accuracy: 0.6333\n",
            "Epoch 21/40\n",
            "1/1 [==============================] - 0s 331ms/step - loss: 1.0861 - accuracy: 0.6667\n",
            "Epoch 22/40\n",
            "1/1 [==============================] - 0s 332ms/step - loss: 1.0853 - accuracy: 0.6667\n",
            "Epoch 23/40\n",
            "1/1 [==============================] - 0s 349ms/step - loss: 1.0852 - accuracy: 0.6667\n",
            "Epoch 24/40\n",
            "1/1 [==============================] - 0s 332ms/step - loss: 1.0820 - accuracy: 0.7000\n",
            "Epoch 25/40\n",
            "1/1 [==============================] - 0s 332ms/step - loss: 1.0824 - accuracy: 0.6667\n",
            "Epoch 26/40\n",
            "1/1 [==============================] - 0s 333ms/step - loss: 1.0807 - accuracy: 0.7333\n",
            "Epoch 27/40\n",
            "1/1 [==============================] - 0s 326ms/step - loss: 1.0783 - accuracy: 0.7667\n",
            "Epoch 28/40\n",
            "1/1 [==============================] - 0s 330ms/step - loss: 1.0787 - accuracy: 0.7333\n",
            "Epoch 29/40\n",
            "1/1 [==============================] - 0s 365ms/step - loss: 1.0756 - accuracy: 0.8000\n",
            "Epoch 30/40\n",
            "1/1 [==============================] - 0s 338ms/step - loss: 1.0730 - accuracy: 0.8000\n",
            "Epoch 31/40\n",
            "1/1 [==============================] - 0s 332ms/step - loss: 1.0727 - accuracy: 0.7667\n",
            "Epoch 32/40\n",
            "1/1 [==============================] - 0s 333ms/step - loss: 1.0706 - accuracy: 0.7000\n",
            "Epoch 33/40\n",
            "1/1 [==============================] - 0s 341ms/step - loss: 1.0679 - accuracy: 0.7333\n",
            "Epoch 34/40\n",
            "1/1 [==============================] - 0s 326ms/step - loss: 1.0641 - accuracy: 0.7333\n",
            "Epoch 35/40\n",
            "1/1 [==============================] - 0s 345ms/step - loss: 1.0630 - accuracy: 0.8000\n",
            "Epoch 36/40\n",
            "1/1 [==============================] - 0s 328ms/step - loss: 1.0580 - accuracy: 0.7667\n",
            "Epoch 37/40\n",
            "1/1 [==============================] - 0s 339ms/step - loss: 1.0555 - accuracy: 0.7333\n",
            "Epoch 38/40\n",
            "1/1 [==============================] - 0s 328ms/step - loss: 1.0521 - accuracy: 0.7333\n",
            "Epoch 39/40\n",
            "1/1 [==============================] - 0s 330ms/step - loss: 1.0423 - accuracy: 0.8333\n",
            "Epoch 40/40\n",
            "1/1 [==============================] - 0s 332ms/step - loss: 1.0390 - accuracy: 0.7333\n"
          ]
        },
        {
          "output_type": "execute_result",
          "data": {
            "text/plain": [
              "<keras.callbacks.History at 0x7fa390184590>"
            ]
          },
          "metadata": {},
          "execution_count": 11
        }
      ]
    },
    {
      "cell_type": "code",
      "metadata": {
        "id": "WdM6a07EyF_f"
      },
      "source": [
        "# model.evaluate()"
      ],
      "execution_count": 13,
      "outputs": []
    },
    {
      "cell_type": "code",
      "metadata": {
        "colab": {
          "base_uri": "https://localhost:8080/"
        },
        "id": "1CZvOGP4zDit",
        "outputId": "b1ca4c56-0a8c-4b32-c2bf-eb972a82fb88"
      },
      "source": [
        "import cv2\n",
        "image = cv2.imread('/content/87.jpg')\n",
        "image = cv2.cvtColor(image,cv2.COLOR_BGR2RGB)\n",
        "image = cv2.resize(image,(width,height))\n",
        "image = image / 255\n",
        "image = image.reshape(1,224,224,3)\n",
        "pred = model.predict(image)\n",
        "pred"
      ],
      "execution_count": 16,
      "outputs": [
        {
          "output_type": "execute_result",
          "data": {
            "text/plain": [
              "array([[0.2969335, 0.3817183, 0.3213482]], dtype=float32)"
            ]
          },
          "metadata": {},
          "execution_count": 16
        }
      ]
    },
    {
      "cell_type": "code",
      "metadata": {
        "colab": {
          "base_uri": "https://localhost:8080/"
        },
        "id": "Iwu0qV1Q4tsZ",
        "outputId": "d6fe1d6c-ff2f-468b-dbeb-ebe8d4b4c5dd"
      },
      "source": [
        "np.argmax(pred)"
      ],
      "execution_count": 17,
      "outputs": [
        {
          "output_type": "execute_result",
          "data": {
            "text/plain": [
              "1"
            ]
          },
          "metadata": {},
          "execution_count": 17
        }
      ]
    }
  ]
}