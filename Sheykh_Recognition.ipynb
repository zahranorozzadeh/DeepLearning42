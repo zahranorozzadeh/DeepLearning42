{
  "nbformat": 4,
  "nbformat_minor": 0,
  "metadata": {
    "colab": {
      "name": "Sheykh_Recognition.ipynb",
      "provenance": [],
      "collapsed_sections": [],
      "mount_file_id": "15skcujrh1wRA6RdwD8_vH7XWf6-OINly",
      "authorship_tag": "ABX9TyPtX1oDZIxVNdIxqtzT6Pb1",
      "include_colab_link": true
    },
    "kernelspec": {
      "name": "python3",
      "display_name": "Python 3"
    },
    "language_info": {
      "name": "python"
    }
  },
  "cells": [
    {
      "cell_type": "markdown",
      "metadata": {
        "id": "view-in-github",
        "colab_type": "text"
      },
      "source": [
        "<a href=\"https://colab.research.google.com/github/zahranorozzadeh/DeepLearning42/blob/main/Sheykh_Recognition.ipynb\" target=\"_parent\"><img src=\"https://colab.research.google.com/assets/colab-badge.svg\" alt=\"Open In Colab\"/></a>"
      ]
    },
    {
      "cell_type": "code",
      "metadata": {
        "id": "GiUeGbSsbH-Z"
      },
      "source": [
        "import tensorflow  as tf\n",
        "from tensorflow .keras.preprocessing.image import ImageDataGenerator\n",
        "from tensorflow .keras.layers import Dense,Conv2D,MaxPool2D,Flatten\n",
        "import numpy as np\n",
        "# !pip install pyTelegramBotAPI\n",
        "import telebot\n",
        "import cv2\n",
        "from matplotlib import  pyplot as pyplot\n",
        "from tensorflow.keras.optimizers import SGD, Adam"
      ],
      "execution_count": null,
      "outputs": []
    },
    {
      "cell_type": "code",
      "metadata": {
        "colab": {
          "base_uri": "https://localhost:8080/"
        },
        "id": "UyWGar3FB3u8",
        "outputId": "6d099335-0ac3-4b2d-eae1-06becfbc263c"
      },
      "source": [
        "from google.colab import drive\n",
        "drive.mount('/content/drive')"
      ],
      "execution_count": null,
      "outputs": [
        {
          "output_type": "stream",
          "name": "stdout",
          "text": [
            "Drive already mounted at /content/drive; to attempt to forcibly remount, call drive.mount(\"/content/drive\", force_remount=True).\n"
          ]
        }
      ]
    },
    {
      "cell_type": "code",
      "metadata": {
        "id": "SkV6fxGWbfDb"
      },
      "source": [
        "width = height = 224"
      ],
      "execution_count": null,
      "outputs": []
    },
    {
      "cell_type": "code",
      "metadata": {
        "colab": {
          "base_uri": "https://localhost:8080/"
        },
        "id": "xvrReeaCbjEE",
        "outputId": "4bfbba4f-a86c-46bc-e8dd-3dcbb429fa73"
      },
      "source": [
        "data_generator = ImageDataGenerator(\n",
        "    rescale = 1 / 255,\n",
        "    validation_split = 0.2,\n",
        ")\n",
        "train_data = data_generator.flow_from_directory('/content/drive/MyDrive/Datasets/Sheykh_Recognition/',\n",
        "                                                    target_size = (width , height),\n",
        "                                                    class_mode = 'categorical',\n",
        "                                                    subset='training')\n",
        "val_data = data_generator.flow_from_directory('/content/drive/MyDrive/Datasets/Sheykh-Recognition/',\n",
        "                                                    target_size = (width, height),\n",
        "                                                    class_mode = 'categorical',\n",
        "                                                    subset='validation')"
      ],
      "execution_count": null,
      "outputs": [
        {
          "output_type": "stream",
          "name": "stdout",
          "text": [
            "Found 126 images belonging to 2 classes.\n",
            "Found 31 images belonging to 2 classes.\n"
          ]
        }
      ]
    },
    {
      "cell_type": "code",
      "metadata": {
        "id": "ZmQa5VwKbxK_"
      },
      "source": [
        "model = tf.keras.models.Sequential([\n",
        "   #استخراج ویژگی\n",
        "   Conv2D(32,(3,3), activation='relu',input_shape=(width,height,3)),\n",
        "   Conv2D(32,(3,3), activation='relu'),\n",
        "   MaxPool2D((2,2)),\n",
        "   Conv2D(32,(3,3), activation='relu'),\n",
        "   Conv2D(32,(3,3), activation='relu'),\n",
        "   MaxPool2D((2,2)),\n",
        "   Conv2D(64,(3,3), activation='relu'),\n",
        "   Conv2D(64,(3,3), activation='relu'),\n",
        "   MaxPool2D((2,2)),\n",
        "   Conv2D(64,(3,3), activation='relu'),\n",
        "   Conv2D(64,(3,3), activation='relu'),\n",
        "\n",
        "   Flatten(),\n",
        "   #MLP\n",
        "   Dense(128, activation='relu'),\n",
        "   Dense(32, activation='relu'),\n",
        "   Dense(2, activation='softmax'),\n",
        "])"
      ],
      "execution_count": null,
      "outputs": []
    },
    {
      "cell_type": "code",
      "metadata": {
        "colab": {
          "base_uri": "https://localhost:8080/"
        },
        "id": "PlOOkXL8b5Dq",
        "outputId": "c43a2311-0fbe-434f-8354-cea0488b96c7"
      },
      "source": [
        "model.summary()"
      ],
      "execution_count": null,
      "outputs": [
        {
          "output_type": "stream",
          "name": "stdout",
          "text": [
            "Model: \"sequential\"\n",
            "_________________________________________________________________\n",
            "Layer (type)                 Output Shape              Param #   \n",
            "=================================================================\n",
            "conv2d (Conv2D)              (None, 222, 222, 32)      896       \n",
            "_________________________________________________________________\n",
            "conv2d_1 (Conv2D)            (None, 220, 220, 32)      9248      \n",
            "_________________________________________________________________\n",
            "max_pooling2d (MaxPooling2D) (None, 110, 110, 32)      0         \n",
            "_________________________________________________________________\n",
            "conv2d_2 (Conv2D)            (None, 108, 108, 32)      9248      \n",
            "_________________________________________________________________\n",
            "conv2d_3 (Conv2D)            (None, 106, 106, 32)      9248      \n",
            "_________________________________________________________________\n",
            "max_pooling2d_1 (MaxPooling2 (None, 53, 53, 32)        0         \n",
            "_________________________________________________________________\n",
            "conv2d_4 (Conv2D)            (None, 51, 51, 64)        18496     \n",
            "_________________________________________________________________\n",
            "conv2d_5 (Conv2D)            (None, 49, 49, 64)        36928     \n",
            "_________________________________________________________________\n",
            "max_pooling2d_2 (MaxPooling2 (None, 24, 24, 64)        0         \n",
            "_________________________________________________________________\n",
            "conv2d_6 (Conv2D)            (None, 22, 22, 64)        36928     \n",
            "_________________________________________________________________\n",
            "conv2d_7 (Conv2D)            (None, 20, 20, 64)        36928     \n",
            "_________________________________________________________________\n",
            "flatten (Flatten)            (None, 25600)             0         \n",
            "_________________________________________________________________\n",
            "dense (Dense)                (None, 128)               3276928   \n",
            "_________________________________________________________________\n",
            "dense_1 (Dense)              (None, 32)                4128      \n",
            "_________________________________________________________________\n",
            "dense_2 (Dense)              (None, 2)                 66        \n",
            "=================================================================\n",
            "Total params: 3,439,042\n",
            "Trainable params: 3,439,042\n",
            "Non-trainable params: 0\n",
            "_________________________________________________________________\n"
          ]
        }
      ]
    },
    {
      "cell_type": "code",
      "metadata": {
        "id": "hqJq6W-Lb_bN"
      },
      "source": [
        "model.compile(optimizer=tf.keras.optimizers.SGD(),\n",
        "              loss = tf.keras.losses.binary_crossentropy,\n",
        "              metrics = ['accuracy'])"
      ],
      "execution_count": null,
      "outputs": []
    },
    {
      "cell_type": "code",
      "metadata": {
        "colab": {
          "base_uri": "https://localhost:8080/"
        },
        "id": "sYGyWI1rcEgR",
        "outputId": "e4c3a32a-6158-4b87-fe80-0c4862b73b01"
      },
      "source": [
        "model.fit(train_data, validation_data = val_data, epochs = 145)\n"
      ],
      "execution_count": null,
      "outputs": [
        {
          "output_type": "stream",
          "name": "stdout",
          "text": [
            "Epoch 1/145\n",
            "4/4 [==============================] - 131s 24s/step - loss: 0.6932 - accuracy: 0.5079 - val_loss: 0.6928 - val_accuracy: 0.5161\n",
            "Epoch 2/145\n",
            "4/4 [==============================] - 2s 507ms/step - loss: 0.6931 - accuracy: 0.5079 - val_loss: 0.6928 - val_accuracy: 0.5161\n",
            "Epoch 3/145\n",
            "4/4 [==============================] - 2s 514ms/step - loss: 0.6931 - accuracy: 0.5079 - val_loss: 0.6928 - val_accuracy: 0.5161\n",
            "Epoch 4/145\n",
            "4/4 [==============================] - 2s 544ms/step - loss: 0.6929 - accuracy: 0.5079 - val_loss: 0.6928 - val_accuracy: 0.5161\n",
            "Epoch 5/145\n",
            "4/4 [==============================] - 2s 545ms/step - loss: 0.6929 - accuracy: 0.5079 - val_loss: 0.6928 - val_accuracy: 0.5161\n",
            "Epoch 6/145\n",
            "4/4 [==============================] - 2s 531ms/step - loss: 0.6928 - accuracy: 0.5079 - val_loss: 0.6927 - val_accuracy: 0.5161\n",
            "Epoch 7/145\n",
            "4/4 [==============================] - 2s 544ms/step - loss: 0.6927 - accuracy: 0.5079 - val_loss: 0.6927 - val_accuracy: 0.5161\n",
            "Epoch 8/145\n",
            "4/4 [==============================] - 2s 497ms/step - loss: 0.6927 - accuracy: 0.5079 - val_loss: 0.6926 - val_accuracy: 0.5161\n",
            "Epoch 9/145\n",
            "4/4 [==============================] - 2s 577ms/step - loss: 0.6927 - accuracy: 0.5079 - val_loss: 0.6926 - val_accuracy: 0.5161\n",
            "Epoch 10/145\n",
            "4/4 [==============================] - 2s 540ms/step - loss: 0.6927 - accuracy: 0.5079 - val_loss: 0.6926 - val_accuracy: 0.5161\n",
            "Epoch 11/145\n",
            "4/4 [==============================] - 2s 499ms/step - loss: 0.6925 - accuracy: 0.5079 - val_loss: 0.6925 - val_accuracy: 0.5161\n",
            "Epoch 12/145\n",
            "4/4 [==============================] - 2s 515ms/step - loss: 0.6924 - accuracy: 0.5079 - val_loss: 0.6925 - val_accuracy: 0.5161\n",
            "Epoch 13/145\n",
            "4/4 [==============================] - 2s 502ms/step - loss: 0.6924 - accuracy: 0.5079 - val_loss: 0.6924 - val_accuracy: 0.5161\n",
            "Epoch 14/145\n",
            "4/4 [==============================] - 2s 525ms/step - loss: 0.6923 - accuracy: 0.5079 - val_loss: 0.6924 - val_accuracy: 0.5161\n",
            "Epoch 15/145\n",
            "4/4 [==============================] - 2s 523ms/step - loss: 0.6922 - accuracy: 0.5079 - val_loss: 0.6923 - val_accuracy: 0.5161\n",
            "Epoch 16/145\n",
            "4/4 [==============================] - 2s 550ms/step - loss: 0.6920 - accuracy: 0.5079 - val_loss: 0.6922 - val_accuracy: 0.5161\n",
            "Epoch 17/145\n",
            "4/4 [==============================] - 2s 542ms/step - loss: 0.6920 - accuracy: 0.5079 - val_loss: 0.6921 - val_accuracy: 0.5161\n",
            "Epoch 18/145\n",
            "4/4 [==============================] - 2s 565ms/step - loss: 0.6918 - accuracy: 0.5079 - val_loss: 0.6920 - val_accuracy: 0.5161\n",
            "Epoch 19/145\n",
            "4/4 [==============================] - 2s 537ms/step - loss: 0.6917 - accuracy: 0.5079 - val_loss: 0.6919 - val_accuracy: 0.5161\n",
            "Epoch 20/145\n",
            "4/4 [==============================] - 2s 453ms/step - loss: 0.6917 - accuracy: 0.5079 - val_loss: 0.6918 - val_accuracy: 0.5161\n",
            "Epoch 21/145\n",
            "4/4 [==============================] - 2s 548ms/step - loss: 0.6916 - accuracy: 0.5079 - val_loss: 0.6917 - val_accuracy: 0.5161\n",
            "Epoch 22/145\n",
            "4/4 [==============================] - 2s 519ms/step - loss: 0.6914 - accuracy: 0.5079 - val_loss: 0.6917 - val_accuracy: 0.5161\n",
            "Epoch 23/145\n",
            "4/4 [==============================] - 2s 541ms/step - loss: 0.6913 - accuracy: 0.5079 - val_loss: 0.6916 - val_accuracy: 0.5161\n",
            "Epoch 24/145\n",
            "4/4 [==============================] - 2s 511ms/step - loss: 0.6911 - accuracy: 0.5079 - val_loss: 0.6915 - val_accuracy: 0.5161\n",
            "Epoch 25/145\n",
            "4/4 [==============================] - 2s 538ms/step - loss: 0.6912 - accuracy: 0.5079 - val_loss: 0.6914 - val_accuracy: 0.5161\n",
            "Epoch 26/145\n",
            "4/4 [==============================] - 2s 474ms/step - loss: 0.6908 - accuracy: 0.5079 - val_loss: 0.6913 - val_accuracy: 0.5161\n",
            "Epoch 27/145\n",
            "4/4 [==============================] - 2s 504ms/step - loss: 0.6908 - accuracy: 0.5079 - val_loss: 0.6912 - val_accuracy: 0.5161\n",
            "Epoch 28/145\n",
            "4/4 [==============================] - 2s 489ms/step - loss: 0.6905 - accuracy: 0.5079 - val_loss: 0.6910 - val_accuracy: 0.5161\n",
            "Epoch 29/145\n",
            "4/4 [==============================] - 2s 471ms/step - loss: 0.6904 - accuracy: 0.5079 - val_loss: 0.6909 - val_accuracy: 0.5161\n",
            "Epoch 30/145\n",
            "4/4 [==============================] - 2s 517ms/step - loss: 0.6902 - accuracy: 0.5079 - val_loss: 0.6908 - val_accuracy: 0.5161\n",
            "Epoch 31/145\n",
            "4/4 [==============================] - 2s 532ms/step - loss: 0.6900 - accuracy: 0.5079 - val_loss: 0.6907 - val_accuracy: 0.5161\n",
            "Epoch 32/145\n",
            "4/4 [==============================] - 2s 551ms/step - loss: 0.6898 - accuracy: 0.5079 - val_loss: 0.6905 - val_accuracy: 0.5161\n",
            "Epoch 33/145\n",
            "4/4 [==============================] - 2s 450ms/step - loss: 0.6897 - accuracy: 0.5159 - val_loss: 0.6902 - val_accuracy: 0.5161\n",
            "Epoch 34/145\n",
            "4/4 [==============================] - 2s 475ms/step - loss: 0.6895 - accuracy: 0.5159 - val_loss: 0.6900 - val_accuracy: 0.5161\n",
            "Epoch 35/145\n",
            "4/4 [==============================] - 2s 517ms/step - loss: 0.6891 - accuracy: 0.5159 - val_loss: 0.6899 - val_accuracy: 0.5161\n",
            "Epoch 36/145\n",
            "4/4 [==============================] - 2s 519ms/step - loss: 0.6888 - accuracy: 0.5079 - val_loss: 0.6896 - val_accuracy: 0.5161\n",
            "Epoch 37/145\n",
            "4/4 [==============================] - 2s 493ms/step - loss: 0.6885 - accuracy: 0.5079 - val_loss: 0.6894 - val_accuracy: 0.5161\n",
            "Epoch 38/145\n",
            "4/4 [==============================] - 2s 531ms/step - loss: 0.6882 - accuracy: 0.5159 - val_loss: 0.6891 - val_accuracy: 0.5161\n",
            "Epoch 39/145\n",
            "4/4 [==============================] - 2s 503ms/step - loss: 0.6879 - accuracy: 0.5079 - val_loss: 0.6888 - val_accuracy: 0.5161\n",
            "Epoch 40/145\n",
            "4/4 [==============================] - 2s 554ms/step - loss: 0.6873 - accuracy: 0.5079 - val_loss: 0.6885 - val_accuracy: 0.5161\n",
            "Epoch 41/145\n",
            "4/4 [==============================] - 2s 513ms/step - loss: 0.6871 - accuracy: 0.5079 - val_loss: 0.6881 - val_accuracy: 0.4839\n",
            "Epoch 42/145\n",
            "4/4 [==============================] - 2s 460ms/step - loss: 0.6863 - accuracy: 0.5397 - val_loss: 0.6874 - val_accuracy: 0.4839\n",
            "Epoch 43/145\n",
            "4/4 [==============================] - 2s 483ms/step - loss: 0.6856 - accuracy: 0.5317 - val_loss: 0.6869 - val_accuracy: 0.4839\n",
            "Epoch 44/145\n",
            "4/4 [==============================] - 2s 502ms/step - loss: 0.6852 - accuracy: 0.5317 - val_loss: 0.6864 - val_accuracy: 0.4839\n",
            "Epoch 45/145\n",
            "4/4 [==============================] - 2s 528ms/step - loss: 0.6844 - accuracy: 0.5714 - val_loss: 0.6856 - val_accuracy: 0.4839\n",
            "Epoch 46/145\n",
            "4/4 [==============================] - 2s 530ms/step - loss: 0.6834 - accuracy: 0.5397 - val_loss: 0.6850 - val_accuracy: 0.5161\n",
            "Epoch 47/145\n",
            "4/4 [==============================] - 2s 503ms/step - loss: 0.6820 - accuracy: 0.5635 - val_loss: 0.6839 - val_accuracy: 0.5161\n",
            "Epoch 48/145\n",
            "4/4 [==============================] - 2s 525ms/step - loss: 0.6807 - accuracy: 0.5635 - val_loss: 0.6829 - val_accuracy: 0.5806\n",
            "Epoch 49/145\n",
            "4/4 [==============================] - 2s 520ms/step - loss: 0.6798 - accuracy: 0.5556 - val_loss: 0.6817 - val_accuracy: 0.5806\n",
            "Epoch 50/145\n",
            "4/4 [==============================] - 2s 512ms/step - loss: 0.6791 - accuracy: 0.5794 - val_loss: 0.6803 - val_accuracy: 0.5806\n",
            "Epoch 51/145\n",
            "4/4 [==============================] - 2s 465ms/step - loss: 0.6762 - accuracy: 0.5952 - val_loss: 0.6786 - val_accuracy: 0.5806\n",
            "Epoch 52/145\n",
            "4/4 [==============================] - 2s 546ms/step - loss: 0.6728 - accuracy: 0.5794 - val_loss: 0.6762 - val_accuracy: 0.5806\n",
            "Epoch 53/145\n",
            "4/4 [==============================] - 2s 506ms/step - loss: 0.6698 - accuracy: 0.5873 - val_loss: 0.6733 - val_accuracy: 0.5806\n",
            "Epoch 54/145\n",
            "4/4 [==============================] - 2s 514ms/step - loss: 0.6671 - accuracy: 0.6111 - val_loss: 0.6702 - val_accuracy: 0.5806\n",
            "Epoch 55/145\n",
            "4/4 [==============================] - 2s 516ms/step - loss: 0.6671 - accuracy: 0.6508 - val_loss: 0.6667 - val_accuracy: 0.5806\n",
            "Epoch 56/145\n",
            "4/4 [==============================] - 2s 543ms/step - loss: 0.6576 - accuracy: 0.5714 - val_loss: 0.6658 - val_accuracy: 0.7742\n",
            "Epoch 57/145\n",
            "4/4 [==============================] - 2s 538ms/step - loss: 0.6497 - accuracy: 0.7460 - val_loss: 0.6541 - val_accuracy: 0.5806\n",
            "Epoch 58/145\n",
            "4/4 [==============================] - 2s 535ms/step - loss: 0.6384 - accuracy: 0.6905 - val_loss: 0.6442 - val_accuracy: 0.6774\n",
            "Epoch 59/145\n",
            "4/4 [==============================] - 2s 511ms/step - loss: 0.6247 - accuracy: 0.7302 - val_loss: 0.6327 - val_accuracy: 0.6129\n",
            "Epoch 60/145\n",
            "4/4 [==============================] - 2s 523ms/step - loss: 0.6183 - accuracy: 0.7302 - val_loss: 0.6285 - val_accuracy: 0.5806\n",
            "Epoch 61/145\n",
            "4/4 [==============================] - 2s 480ms/step - loss: 0.5824 - accuracy: 0.7143 - val_loss: 0.6240 - val_accuracy: 0.7419\n",
            "Epoch 62/145\n",
            "4/4 [==============================] - 2s 518ms/step - loss: 0.6163 - accuracy: 0.7143 - val_loss: 0.6013 - val_accuracy: 0.6129\n",
            "Epoch 63/145\n",
            "4/4 [==============================] - 2s 542ms/step - loss: 0.5742 - accuracy: 0.7063 - val_loss: 0.6197 - val_accuracy: 0.5484\n",
            "Epoch 64/145\n",
            "4/4 [==============================] - 2s 527ms/step - loss: 0.7191 - accuracy: 0.5556 - val_loss: 0.7276 - val_accuracy: 0.4839\n",
            "Epoch 65/145\n",
            "4/4 [==============================] - 2s 505ms/step - loss: 0.6884 - accuracy: 0.5397 - val_loss: 0.6862 - val_accuracy: 0.5484\n",
            "Epoch 66/145\n",
            "4/4 [==============================] - 2s 476ms/step - loss: 0.6545 - accuracy: 0.6667 - val_loss: 0.6519 - val_accuracy: 0.7419\n",
            "Epoch 67/145\n",
            "4/4 [==============================] - 2s 459ms/step - loss: 0.6231 - accuracy: 0.7381 - val_loss: 0.6148 - val_accuracy: 0.7419\n",
            "Epoch 68/145\n",
            "4/4 [==============================] - 2s 498ms/step - loss: 0.5807 - accuracy: 0.7778 - val_loss: 0.5947 - val_accuracy: 0.6129\n",
            "Epoch 69/145\n",
            "4/4 [==============================] - 2s 492ms/step - loss: 0.5910 - accuracy: 0.6746 - val_loss: 0.5746 - val_accuracy: 0.7097\n",
            "Epoch 70/145\n",
            "4/4 [==============================] - 2s 520ms/step - loss: 0.5214 - accuracy: 0.7381 - val_loss: 0.5661 - val_accuracy: 0.6452\n",
            "Epoch 71/145\n",
            "4/4 [==============================] - 2s 489ms/step - loss: 0.5320 - accuracy: 0.7460 - val_loss: 0.5827 - val_accuracy: 0.6452\n",
            "Epoch 72/145\n",
            "4/4 [==============================] - 2s 511ms/step - loss: 0.5525 - accuracy: 0.7063 - val_loss: 0.5863 - val_accuracy: 0.6452\n",
            "Epoch 73/145\n",
            "4/4 [==============================] - 2s 489ms/step - loss: 0.4822 - accuracy: 0.7540 - val_loss: 0.5156 - val_accuracy: 0.7419\n",
            "Epoch 74/145\n",
            "4/4 [==============================] - 2s 500ms/step - loss: 0.5450 - accuracy: 0.7222 - val_loss: 0.6846 - val_accuracy: 0.5806\n",
            "Epoch 75/145\n",
            "4/4 [==============================] - 2s 474ms/step - loss: 0.6023 - accuracy: 0.6508 - val_loss: 0.5452 - val_accuracy: 0.7419\n",
            "Epoch 76/145\n",
            "4/4 [==============================] - 2s 507ms/step - loss: 0.4669 - accuracy: 0.8095 - val_loss: 0.5003 - val_accuracy: 0.7742\n",
            "Epoch 77/145\n",
            "4/4 [==============================] - 2s 551ms/step - loss: 0.4363 - accuracy: 0.7937 - val_loss: 0.4885 - val_accuracy: 0.7742\n",
            "Epoch 78/145\n",
            "4/4 [==============================] - 2s 449ms/step - loss: 0.4334 - accuracy: 0.8016 - val_loss: 0.5412 - val_accuracy: 0.7419\n",
            "Epoch 79/145\n",
            "4/4 [==============================] - 2s 496ms/step - loss: 0.4784 - accuracy: 0.7381 - val_loss: 0.6994 - val_accuracy: 0.6774\n",
            "Epoch 80/145\n",
            "4/4 [==============================] - 2s 505ms/step - loss: 0.4922 - accuracy: 0.7381 - val_loss: 0.5323 - val_accuracy: 0.7419\n",
            "Epoch 81/145\n",
            "4/4 [==============================] - 2s 487ms/step - loss: 0.4402 - accuracy: 0.7857 - val_loss: 0.4858 - val_accuracy: 0.7742\n",
            "Epoch 82/145\n",
            "4/4 [==============================] - 2s 493ms/step - loss: 0.4379 - accuracy: 0.7937 - val_loss: 0.9655 - val_accuracy: 0.5484\n",
            "Epoch 83/145\n",
            "4/4 [==============================] - 2s 542ms/step - loss: 0.5216 - accuracy: 0.7381 - val_loss: 0.4794 - val_accuracy: 0.7419\n",
            "Epoch 84/145\n",
            "4/4 [==============================] - 2s 513ms/step - loss: 0.3852 - accuracy: 0.8175 - val_loss: 0.5271 - val_accuracy: 0.7419\n",
            "Epoch 85/145\n",
            "4/4 [==============================] - 2s 513ms/step - loss: 0.4163 - accuracy: 0.7778 - val_loss: 0.4631 - val_accuracy: 0.8065\n",
            "Epoch 86/145\n",
            "4/4 [==============================] - 2s 547ms/step - loss: 0.3849 - accuracy: 0.8571 - val_loss: 0.4836 - val_accuracy: 0.7419\n",
            "Epoch 87/145\n",
            "4/4 [==============================] - 2s 472ms/step - loss: 0.3924 - accuracy: 0.8492 - val_loss: 0.5961 - val_accuracy: 0.7097\n",
            "Epoch 88/145\n",
            "4/4 [==============================] - 2s 508ms/step - loss: 0.3950 - accuracy: 0.8413 - val_loss: 0.5445 - val_accuracy: 0.7419\n",
            "Epoch 89/145\n",
            "4/4 [==============================] - 2s 504ms/step - loss: 0.4092 - accuracy: 0.8175 - val_loss: 0.4554 - val_accuracy: 0.8065\n",
            "Epoch 90/145\n",
            "4/4 [==============================] - 2s 500ms/step - loss: 0.3427 - accuracy: 0.8333 - val_loss: 0.4527 - val_accuracy: 0.7742\n",
            "Epoch 91/145\n",
            "4/4 [==============================] - 2s 523ms/step - loss: 0.3481 - accuracy: 0.8333 - val_loss: 0.4589 - val_accuracy: 0.7742\n",
            "Epoch 92/145\n",
            "4/4 [==============================] - 2s 528ms/step - loss: 0.3450 - accuracy: 0.8492 - val_loss: 0.5471 - val_accuracy: 0.7419\n",
            "Epoch 93/145\n",
            "4/4 [==============================] - 2s 524ms/step - loss: 0.3355 - accuracy: 0.8571 - val_loss: 0.5313 - val_accuracy: 0.7742\n",
            "Epoch 94/145\n",
            "4/4 [==============================] - 2s 489ms/step - loss: 0.5211 - accuracy: 0.7857 - val_loss: 0.4623 - val_accuracy: 0.8065\n",
            "Epoch 95/145\n",
            "4/4 [==============================] - 2s 496ms/step - loss: 0.3508 - accuracy: 0.8889 - val_loss: 0.4711 - val_accuracy: 0.7742\n",
            "Epoch 96/145\n",
            "4/4 [==============================] - 2s 514ms/step - loss: 0.3044 - accuracy: 0.8492 - val_loss: 0.5348 - val_accuracy: 0.7742\n",
            "Epoch 97/145\n",
            "4/4 [==============================] - 2s 524ms/step - loss: 0.5334 - accuracy: 0.8254 - val_loss: 0.4407 - val_accuracy: 0.8065\n",
            "Epoch 98/145\n",
            "4/4 [==============================] - 2s 509ms/step - loss: 0.3220 - accuracy: 0.8968 - val_loss: 0.4471 - val_accuracy: 0.8065\n",
            "Epoch 99/145\n",
            "4/4 [==============================] - 2s 502ms/step - loss: 0.3503 - accuracy: 0.8413 - val_loss: 0.5766 - val_accuracy: 0.6452\n",
            "Epoch 100/145\n",
            "4/4 [==============================] - 2s 523ms/step - loss: 0.3417 - accuracy: 0.8651 - val_loss: 0.4473 - val_accuracy: 0.8065\n",
            "Epoch 101/145\n",
            "4/4 [==============================] - 2s 514ms/step - loss: 0.2935 - accuracy: 0.8810 - val_loss: 0.4855 - val_accuracy: 0.8065\n",
            "Epoch 102/145\n",
            "4/4 [==============================] - 2s 549ms/step - loss: 0.2796 - accuracy: 0.8651 - val_loss: 0.5035 - val_accuracy: 0.8065\n",
            "Epoch 103/145\n",
            "4/4 [==============================] - 2s 461ms/step - loss: 0.2937 - accuracy: 0.8730 - val_loss: 0.4676 - val_accuracy: 0.7419\n",
            "Epoch 104/145\n",
            "4/4 [==============================] - 2s 528ms/step - loss: 0.3304 - accuracy: 0.8333 - val_loss: 0.4479 - val_accuracy: 0.8065\n",
            "Epoch 105/145\n",
            "4/4 [==============================] - 2s 480ms/step - loss: 0.2531 - accuracy: 0.8730 - val_loss: 0.5015 - val_accuracy: 0.7742\n",
            "Epoch 106/145\n",
            "4/4 [==============================] - 2s 524ms/step - loss: 0.6730 - accuracy: 0.7222 - val_loss: 0.6285 - val_accuracy: 0.7742\n",
            "Epoch 107/145\n",
            "4/4 [==============================] - 2s 527ms/step - loss: 0.4631 - accuracy: 0.8413 - val_loss: 0.4241 - val_accuracy: 0.8065\n",
            "Epoch 108/145\n",
            "4/4 [==============================] - 2s 509ms/step - loss: 0.2669 - accuracy: 0.9286 - val_loss: 0.4666 - val_accuracy: 0.8065\n",
            "Epoch 109/145\n",
            "4/4 [==============================] - 2s 482ms/step - loss: 0.2268 - accuracy: 0.9206 - val_loss: 0.4892 - val_accuracy: 0.8065\n",
            "Epoch 110/145\n",
            "4/4 [==============================] - 2s 496ms/step - loss: 0.2212 - accuracy: 0.8968 - val_loss: 0.4921 - val_accuracy: 0.8065\n",
            "Epoch 111/145\n",
            "4/4 [==============================] - 2s 517ms/step - loss: 0.3652 - accuracy: 0.8254 - val_loss: 0.5496 - val_accuracy: 0.7097\n",
            "Epoch 112/145\n",
            "4/4 [==============================] - 2s 552ms/step - loss: 0.3254 - accuracy: 0.8730 - val_loss: 0.4568 - val_accuracy: 0.8065\n",
            "Epoch 113/145\n",
            "4/4 [==============================] - 2s 511ms/step - loss: 0.2277 - accuracy: 0.9127 - val_loss: 0.5336 - val_accuracy: 0.7742\n",
            "Epoch 114/145\n",
            "4/4 [==============================] - 2s 507ms/step - loss: 0.1912 - accuracy: 0.9365 - val_loss: 0.5287 - val_accuracy: 0.7742\n",
            "Epoch 115/145\n",
            "4/4 [==============================] - 2s 525ms/step - loss: 0.2176 - accuracy: 0.9127 - val_loss: 0.9532 - val_accuracy: 0.6129\n",
            "Epoch 116/145\n",
            "4/4 [==============================] - 2s 473ms/step - loss: 0.3642 - accuracy: 0.8492 - val_loss: 0.4470 - val_accuracy: 0.8387\n",
            "Epoch 117/145\n",
            "4/4 [==============================] - 2s 484ms/step - loss: 0.2312 - accuracy: 0.9206 - val_loss: 0.6302 - val_accuracy: 0.7419\n",
            "Epoch 118/145\n",
            "4/4 [==============================] - 2s 523ms/step - loss: 0.2261 - accuracy: 0.9048 - val_loss: 0.5233 - val_accuracy: 0.7742\n",
            "Epoch 119/145\n",
            "4/4 [==============================] - 2s 502ms/step - loss: 0.3024 - accuracy: 0.8492 - val_loss: 0.4591 - val_accuracy: 0.7742\n",
            "Epoch 120/145\n",
            "4/4 [==============================] - 2s 461ms/step - loss: 0.1829 - accuracy: 0.9365 - val_loss: 0.5715 - val_accuracy: 0.7742\n",
            "Epoch 121/145\n",
            "4/4 [==============================] - 2s 480ms/step - loss: 0.1773 - accuracy: 0.9365 - val_loss: 0.6142 - val_accuracy: 0.7742\n",
            "Epoch 122/145\n",
            "4/4 [==============================] - 2s 524ms/step - loss: 0.2366 - accuracy: 0.8968 - val_loss: 0.5152 - val_accuracy: 0.8065\n",
            "Epoch 123/145\n",
            "4/4 [==============================] - 2s 489ms/step - loss: 0.1381 - accuracy: 0.9524 - val_loss: 0.5912 - val_accuracy: 0.7742\n",
            "Epoch 124/145\n",
            "4/4 [==============================] - 2s 506ms/step - loss: 0.2084 - accuracy: 0.8968 - val_loss: 0.9366 - val_accuracy: 0.6129\n",
            "Epoch 125/145\n",
            "4/4 [==============================] - 2s 508ms/step - loss: 0.2538 - accuracy: 0.9127 - val_loss: 0.4805 - val_accuracy: 0.8387\n",
            "Epoch 126/145\n",
            "4/4 [==============================] - 2s 469ms/step - loss: 0.1231 - accuracy: 0.9603 - val_loss: 0.5985 - val_accuracy: 0.7742\n",
            "Epoch 127/145\n",
            "4/4 [==============================] - 2s 534ms/step - loss: 0.1127 - accuracy: 0.9524 - val_loss: 0.6215 - val_accuracy: 0.7742\n",
            "Epoch 128/145\n",
            "4/4 [==============================] - 2s 518ms/step - loss: 0.3743 - accuracy: 0.8571 - val_loss: 0.4545 - val_accuracy: 0.7742\n",
            "Epoch 129/145\n",
            "4/4 [==============================] - 2s 467ms/step - loss: 0.1402 - accuracy: 0.9524 - val_loss: 0.5835 - val_accuracy: 0.7742\n",
            "Epoch 130/145\n",
            "4/4 [==============================] - 2s 501ms/step - loss: 0.0807 - accuracy: 0.9683 - val_loss: 0.7021 - val_accuracy: 0.7742\n",
            "Epoch 131/145\n",
            "4/4 [==============================] - 2s 515ms/step - loss: 0.0828 - accuracy: 0.9603 - val_loss: 0.9113 - val_accuracy: 0.6774\n",
            "Epoch 132/145\n",
            "4/4 [==============================] - 2s 487ms/step - loss: 0.1146 - accuracy: 0.9683 - val_loss: 0.6852 - val_accuracy: 0.7742\n",
            "Epoch 133/145\n",
            "4/4 [==============================] - 2s 530ms/step - loss: 0.0595 - accuracy: 0.9841 - val_loss: 0.7482 - val_accuracy: 0.7742\n",
            "Epoch 134/145\n",
            "4/4 [==============================] - 2s 506ms/step - loss: 0.0425 - accuracy: 0.9921 - val_loss: 0.8625 - val_accuracy: 0.7742\n",
            "Epoch 135/145\n",
            "4/4 [==============================] - 2s 518ms/step - loss: 0.0405 - accuracy: 0.9921 - val_loss: 0.8606 - val_accuracy: 0.7742\n",
            "Epoch 136/145\n",
            "4/4 [==============================] - 2s 538ms/step - loss: 0.0580 - accuracy: 0.9762 - val_loss: 0.9050 - val_accuracy: 0.7742\n",
            "Epoch 137/145\n",
            "4/4 [==============================] - 2s 512ms/step - loss: 0.0414 - accuracy: 1.0000 - val_loss: 0.8978 - val_accuracy: 0.7742\n",
            "Epoch 138/145\n",
            "4/4 [==============================] - 2s 456ms/step - loss: 0.0258 - accuracy: 1.0000 - val_loss: 0.9005 - val_accuracy: 0.7742\n",
            "Epoch 139/145\n",
            "4/4 [==============================] - 2s 530ms/step - loss: 0.0222 - accuracy: 1.0000 - val_loss: 0.9280 - val_accuracy: 0.7742\n",
            "Epoch 140/145\n",
            "4/4 [==============================] - 2s 522ms/step - loss: 0.0175 - accuracy: 1.0000 - val_loss: 0.9932 - val_accuracy: 0.7742\n",
            "Epoch 141/145\n",
            "4/4 [==============================] - 2s 513ms/step - loss: 0.0159 - accuracy: 1.0000 - val_loss: 0.9947 - val_accuracy: 0.7742\n",
            "Epoch 142/145\n",
            "4/4 [==============================] - 2s 474ms/step - loss: 0.0136 - accuracy: 1.0000 - val_loss: 1.0583 - val_accuracy: 0.7742\n",
            "Epoch 143/145\n",
            "4/4 [==============================] - 2s 535ms/step - loss: 0.0128 - accuracy: 1.0000 - val_loss: 1.0777 - val_accuracy: 0.7742\n",
            "Epoch 144/145\n",
            "4/4 [==============================] - 2s 528ms/step - loss: 0.0110 - accuracy: 1.0000 - val_loss: 1.0903 - val_accuracy: 0.7742\n",
            "Epoch 145/145\n",
            "4/4 [==============================] - 2s 508ms/step - loss: 0.0102 - accuracy: 1.0000 - val_loss: 1.1089 - val_accuracy: 0.7742\n"
          ]
        },
        {
          "output_type": "execute_result",
          "data": {
            "text/plain": [
              "<keras.callbacks.History at 0x7f7dff0f5d90>"
            ]
          },
          "metadata": {},
          "execution_count": 9
        }
      ]
    },
    {
      "cell_type": "code",
      "metadata": {
        "id": "w6U3e8NYcLEo"
      },
      "source": [
        "# import cv2\n",
        "# image = cv2.imread('/content/aghaye hashemi rafsanjani.jpg')\n",
        "# image = cv2.cvtColor(image,cv2.COLOR_BGR2RGB)\n",
        "# image = cv2.resize(image,(width,height))\n",
        "# image = image / 255\n",
        "# image = image.reshape(1,224,224,2)\n",
        "# pred = model.predict(image)\n",
        "# pred"
      ],
      "execution_count": null,
      "outputs": []
    },
    {
      "cell_type": "code",
      "metadata": {
        "id": "FeI4o8x4eGeD"
      },
      "source": [
        "# np.argmax(pred)"
      ],
      "execution_count": null,
      "outputs": []
    },
    {
      "cell_type": "code",
      "metadata": {
        "id": "bU8p15asVbKs"
      },
      "source": [
        "model.save('/content/model.h5')\n"
      ],
      "execution_count": null,
      "outputs": []
    }
  ]
}